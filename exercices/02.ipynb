{
 "cells": [
  {
   "cell_type": "markdown",
   "metadata": {},
   "source": [
    "### 01 - Crie um código que pergunte ao usuário qual é o dia da semana. Caso seja sábado ou domingo, imprima uma mensagem dizendo que é dia de descanso. Caso contrário, imprima uma mensagem dizendo que é dia de trabalho."
   ]
  },
  {
   "cell_type": "code",
   "execution_count": null,
   "metadata": {},
   "outputs": [],
   "source": [
    "week_day = input(\"Digite o dia da semana: \").upper()\n",
    "\n",
    "if(week_day == \"DOMINGO\" or week_day == \"SÁBADO\"):\n",
    "    print(\"Hoje é dia de descanso.\")\n",
    "else:\n",
    "    print(\"Hoje é dia de trabalho\")"
   ]
  },
  {
   "cell_type": "markdown",
   "metadata": {},
   "source": [
    "### 02 - Crie uma lista com 5 frutas, e verifique se \"Morango\" faz parte dela."
   ]
  },
  {
   "cell_type": "code",
   "execution_count": null,
   "metadata": {},
   "outputs": [],
   "source": [
    "fruits = [\"Banana\", \"Maçã\", \"Limão\", \"Morango\", \"Laranja\"]\n",
    "\n",
    "for fruit in fruits:\n",
    "    if fruit == \"Morango\":\n",
    "        print(\"Morango está na lista\")\n",
    "        break"
   ]
  },
  {
   "cell_type": "markdown",
   "metadata": {},
   "source": [
    "### 03 - Crie uma tupla com 4 elementos, multiplique cada elemento por 2, guarde os resultados em uma lista e imprima na tela."
   ]
  },
  {
   "cell_type": "code",
   "execution_count": null,
   "metadata": {},
   "outputs": [],
   "source": [
    "tuple_01 = (2, 5, 7, 9)\n",
    "results = []\n",
    "\n",
    "for item in tuple_01:\n",
    "    results.append(item * 2)\n",
    "    \n",
    "print(results)"
   ]
  },
  {
   "cell_type": "markdown",
   "metadata": {},
   "source": [
    "### 04 - Crie uma sequência de números pares entre 100 e 150 e imprima na tela."
   ]
  },
  {
   "cell_type": "code",
   "execution_count": null,
   "metadata": {},
   "outputs": [],
   "source": [
    "for number in range (100, 151, 2):\n",
    "    print(number)"
   ]
  },
  {
   "cell_type": "markdown",
   "metadata": {},
   "source": [
    "### 05 - Crie uma variável para armazenar o valor de temperatura e atribua o valor 40. Enquanto a mesma for maior que 35, imprima os valores na tela."
   ]
  },
  {
   "cell_type": "code",
   "execution_count": null,
   "metadata": {},
   "outputs": [],
   "source": [
    "temperature = 40\n",
    "\n",
    "while temperature > 35:\n",
    "    print(temperature)\n",
    "    temperature -= 1"
   ]
  },
  {
   "cell_type": "markdown",
   "metadata": {},
   "source": [
    "### 06 - Crie uma iteração de 0 a 100, com um contador inicializado em 0. Enquanto o contador for menor que 100, imprima o valor na tela, mas interrompa a execução do programa quando o valor 23 for encontrado."
   ]
  },
  {
   "cell_type": "code",
   "execution_count": null,
   "metadata": {},
   "outputs": [],
   "source": [
    "counter = 0\n",
    "\n",
    "while counter <= 100:\n",
    "    if(counter == 23):\n",
    "        break\n",
    "        \n",
    "    print(counter)\n",
    "    counter += 1"
   ]
  },
  {
   "cell_type": "markdown",
   "metadata": {},
   "source": [
    "### 07 - Crie uma lista vazia e um contador inicializado em 4. Enquanto o contador for menor ou igual a 20, caso o mesmo seja par, adicione seu valor à lista. Ao final, imprima a lista na tela."
   ]
  },
  {
   "cell_type": "code",
   "execution_count": null,
   "metadata": {},
   "outputs": [],
   "source": [
    "list_even = list()\n",
    "counter = 4\n",
    "\n",
    "while counter <= 20:\n",
    "    if counter % 2 == 0:\n",
    "        list_even.append(counter)\n",
    "        \n",
    "    counter += 1\n",
    "        \n",
    "print(list_even)"
   ]
  },
  {
   "cell_type": "markdown",
   "metadata": {},
   "source": [
    "### 08 - Transforme o resultado de \"numbers = range(5, 45, 2) em uma lista, e imprima na tela."
   ]
  },
  {
   "cell_type": "code",
   "execution_count": null,
   "metadata": {},
   "outputs": [],
   "source": [
    "numbers = range(5, 45, 2)\n",
    "print(list(numbers))"
   ]
  },
  {
   "cell_type": "markdown",
   "metadata": {},
   "source": [
    "### 09 - Faça a correção dos erros no código abaixo e execute o programa."
   ]
  },
  {
   "cell_type": "code",
   "execution_count": null,
   "metadata": {},
   "outputs": [],
   "source": [
    "# Código com erros.\n",
    "temperatura = float(input('Qual a temperatura? '))\n",
    "if temperatura > 30\n",
    "print('Vista roupas leves.')\n",
    "else\n",
    "    print('Busque seus casacos.')"
   ]
  },
  {
   "cell_type": "code",
   "execution_count": null,
   "metadata": {},
   "outputs": [],
   "source": [
    "# Código corrigido.\n",
    "temperatura = float(input('Qual a temperatura? '))\n",
    "\n",
    "if temperatura > 30:\n",
    "    print('Vista roupas leves.')\n",
    "else:\n",
    "    print('Busque seus casacos.')"
   ]
  },
  {
   "cell_type": "markdown",
   "metadata": {},
   "source": [
    "### 10 - Verifique quantas vezes a letra \"r\" aparece na frase abaixo e imprima na tela, utilizando um placeholder.\n",
    "\n",
    "#### \"É melhor, muito melhor, contentar-se com a realidade; se ela não é tão brilhante como os sonhos, tem pelo menos a vantagem de existir.\""
   ]
  },
  {
   "cell_type": "code",
   "execution_count": null,
   "metadata": {},
   "outputs": [],
   "source": [
    "phrase = \"É melhor, muito melhor, contentar-se com a realidade; se ela não é tão brilhante como os sonhos, tem pelo menos a vantagem de existir.\"\n",
    "\n",
    "letter_looking = \"r\"\n",
    "letter_occurrences = 0\n",
    "\n",
    "for letter in phrase:\n",
    "    if letter == letter_looking:\n",
    "        letter_occurrences += 1\n",
    "        \n",
    "print(f\"A letra \\\"{letter_looking}\\\" apareceu na frase {letter_occurrences} vezes.\")"
   ]
  }
 ],
 "metadata": {
  "kernelspec": {
   "display_name": "Python 3",
   "language": "python",
   "name": "python3"
  },
  "language_info": {
   "codemirror_mode": {
    "name": "ipython",
    "version": 3
   },
   "file_extension": ".py",
   "mimetype": "text/x-python",
   "name": "python",
   "nbconvert_exporter": "python",
   "pygments_lexer": "ipython3",
   "version": "3.6.9"
  }
 },
 "nbformat": 4,
 "nbformat_minor": 2
}
