{
 "cells": [
  {
   "cell_type": "code",
   "execution_count": null,
   "metadata": {},
   "outputs": [],
   "source": [
    "class UniqueChars(object):\n",
    "    \n",
    "    def is_unique(self, word):\n",
    "        \n",
    "        if word is None:\n",
    "            return False\n",
    "        \n",
    "        for letter in word:\n",
    "            if word.count(letter) > 1:\n",
    "                return False\n",
    "            \n",
    "        return True"
   ]
  },
  {
   "cell_type": "code",
   "execution_count": null,
   "metadata": {},
   "outputs": [],
   "source": [
    "%%writefile tests.py\n",
    "\n",
    "from nose.tools import assert_equal\n",
    "\n",
    "class TestUniqueChars(object):\n",
    "\n",
    "    def test_unique_chars(self, func):\n",
    "        \n",
    "        assert_equal(func(None), False)\n",
    "        assert_equal(func(\"\"), True)\n",
    "        assert_equal(func(\"foo\"), False)\n",
    "        assert_equal(func(\"bar\"), True)\n",
    "        \n",
    "        print(\"Tests OK.\")\n",
    "\n",
    "def main():\n",
    "    \n",
    "    test_class = TestUniqueChars()\n",
    "    \n",
    "    try:\n",
    "        tested_class = UniqueChars()\n",
    "        test_class.test_unique_chars(tested_class.is_unique)\n",
    "    \n",
    "    except NameError:\n",
    "        print(f\"NameError: {NameError}\")\n",
    "\n",
    "if __name__ == '__main__':\n",
    "\n",
    "    main()"
   ]
  },
  {
   "cell_type": "code",
   "execution_count": null,
   "metadata": {},
   "outputs": [],
   "source": [
    "%run -i tests.py"
   ]
  }
 ],
 "metadata": {
  "kernelspec": {
   "display_name": "Python 3",
   "language": "python",
   "name": "python3"
  },
  "language_info": {
   "codemirror_mode": {
    "name": "ipython",
    "version": 3
   },
   "file_extension": ".py",
   "mimetype": "text/x-python",
   "name": "python",
   "nbconvert_exporter": "python",
   "pygments_lexer": "ipython3",
   "version": "3.6.9"
  }
 },
 "nbformat": 4,
 "nbformat_minor": 2
}
