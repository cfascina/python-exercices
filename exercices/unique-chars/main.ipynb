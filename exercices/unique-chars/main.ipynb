{
 "cells": [
  {
   "cell_type": "code",
   "execution_count": null,
   "metadata": {},
   "outputs": [],
   "source": [
    "class UniqueChars(object):\n",
    "    def is_unique(self, word):\n",
    "        if word is None:\n",
    "            return False\n",
    "        \n",
    "        for letter in word:\n",
    "            if word.count(letter) > 1:\n",
    "                return False\n",
    "            \n",
    "        return True"
   ]
  },
  {
   "cell_type": "code",
   "execution_count": null,
   "metadata": {},
   "outputs": [],
   "source": [
    "from nose.tools import assert_equal\n",
    "\n",
    "class TestUniqueChars(object):\n",
    "    def test_is_unique(self, func):\n",
    "        assert_equal(func(None), False)\n",
    "        assert_equal(func(\"\"), True)\n",
    "        assert_equal(func(\"foo\"), False)\n",
    "        assert_equal(func(\"bar\"), True)\n",
    "        \n",
    "        print(\"Tests OK.\")\n",
    "\n",
    "def main():\n",
    "    test_class = TestUniqueChars()\n",
    "    tested_class = UniqueChars()\n",
    "    test_class.test_is_unique(tested_class.is_unique)\n",
    "\n",
    "if __name__ == '__main__':\n",
    "    main()"
   ]
  }
 ],
 "metadata": {
  "kernelspec": {
   "display_name": "Python 3",
   "language": "python",
   "name": "python3"
  },
  "language_info": {
   "codemirror_mode": {
    "name": "ipython",
    "version": 3
   },
   "file_extension": ".py",
   "mimetype": "text/x-python",
   "name": "python",
   "nbconvert_exporter": "python",
   "pygments_lexer": "ipython3",
   "version": "3.6.9"
  }
 },
 "nbformat": 4,
 "nbformat_minor": 2
}
