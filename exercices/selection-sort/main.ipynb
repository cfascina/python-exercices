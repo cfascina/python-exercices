{
 "cells": [
  {
   "cell_type": "code",
   "execution_count": null,
   "metadata": {},
   "outputs": [],
   "source": [
    "class SelectionSort(object):\n",
    "    def iterative_sort(self, arr):\n",
    "        if arr is None:\n",
    "            return False\n",
    "        for i in range(len(arr)):\n",
    "            for j in range(len(arr)):\n",
    "                if arr[i] < arr[j]:  \n",
    "                    arr[j], arr[i] = arr[i], arr[j]\n",
    "\n",
    "        return arr"
   ]
  },
  {
   "cell_type": "code",
   "execution_count": null,
   "metadata": {},
   "outputs": [],
   "source": [
    "from nose.tools import assert_equal\n",
    "\n",
    "class TestSelectionSort(object):\n",
    "    def test_selection_sort(self, func):\n",
    "        assert_equal(func(None), False)\n",
    "        assert_equal(func([]), [])\n",
    "        assert_equal(func([5]), [5])\n",
    "        test_arr = [5, 1, 7, -3, 7]\n",
    "        assert_equal(func(test_arr), sorted(test_arr))\n",
    "        \n",
    "        print(\"Tests OK.\")\n",
    "\n",
    "def main():\n",
    "    test_class = TestSelectionSort()\n",
    "    tested_class = SelectionSort()\n",
    "    test_class.test_selection_sort(tested_class.iterative_sort)\n",
    "    \n",
    "if __name__ == '__main__':\n",
    "    main()"
   ]
  }
 ],
 "metadata": {
  "kernelspec": {
   "display_name": "Python 3",
   "language": "python",
   "name": "python3"
  },
  "language_info": {
   "codemirror_mode": {
    "name": "ipython",
    "version": 3
   },
   "file_extension": ".py",
   "mimetype": "text/x-python",
   "name": "python",
   "nbconvert_exporter": "python",
   "pygments_lexer": "ipython3",
   "version": "3.6.9"
  }
 },
 "nbformat": 4,
 "nbformat_minor": 2
}
