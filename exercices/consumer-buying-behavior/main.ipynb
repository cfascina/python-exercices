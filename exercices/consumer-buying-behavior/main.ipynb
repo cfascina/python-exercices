{
 "cells": [
  {
   "cell_type": "code",
   "execution_count": null,
   "metadata": {},
   "outputs": [],
   "source": [
    "import numpy as np\n",
    "import pandas as pd"
   ]
  },
  {
   "cell_type": "code",
   "execution_count": null,
   "metadata": {},
   "outputs": [],
   "source": [
    "file = \"buying-data.json\"\n",
    "df = pd.read_json(file, orient = \"records\")"
   ]
  },
  {
   "cell_type": "markdown",
   "metadata": {},
   "source": [
    "### General Purchasing Analysis"
   ]
  },
  {
   "cell_type": "code",
   "execution_count": null,
   "metadata": {},
   "outputs": [],
   "source": [
    "totals_sales = len(df.index)"
   ]
  },
  {
   "cell_type": "code",
   "execution_count": null,
   "metadata": {},
   "outputs": [],
   "source": [
    "total_buyers = len(df.groupby('Login'))"
   ]
  },
  {
   "cell_type": "code",
   "execution_count": null,
   "metadata": {},
   "outputs": [],
   "source": [
    "unique_items = df.nunique()[4]"
   ]
  },
  {
   "cell_type": "code",
   "execution_count": null,
   "metadata": {},
   "outputs": [],
   "source": [
    "sales_ammount = round(df.sum()[5], 2)"
   ]
  },
  {
   "cell_type": "code",
   "execution_count": null,
   "metadata": {},
   "outputs": [],
   "source": [
    "average_purchase_price = round(sales_ammount / totals_sales, 2)"
   ]
  },
  {
   "cell_type": "code",
   "execution_count": null,
   "metadata": {},
   "outputs": [],
   "source": [
    "# Apresentar em tabela\n",
    "print(f\"Total Sales: {totals_sales}\")\n",
    "print(f\"Total Buyers: {total_buyers}\")\n",
    "print(f\"Unique Items: {unique_items}\")\n",
    "print(f\"Sales Ammount: {sales_ammount}\")\n",
    "print(f\"Average Purchase Price: {average_purchase_price}\")"
   ]
  },
  {
   "cell_type": "markdown",
   "metadata": {},
   "source": [
    "### Informations By Gender"
   ]
  },
  {
   "cell_type": "code",
   "execution_count": null,
   "metadata": {},
   "outputs": [],
   "source": [
    "df_gender = df.groupby(\"Sexo\")\n",
    "\n",
    "number_female = df_gender.size()[0]\n",
    "number_male   = df_gender.size()[1]\n",
    "number_others = df_gender.size()[2]\n",
    "\n",
    "percent_female = number_female / totals_sales * 100\n",
    "percent_male   = number_male / totals_sales * 100\n",
    "percent_others = number_others / totals_sales * 100"
   ]
  },
  {
   "cell_type": "code",
   "execution_count": null,
   "metadata": {},
   "outputs": [],
   "source": [
    "# Apresentar em tabela\n",
    "print(f\"Female: {number_female} ({percent_female:.2f}%)\")\n",
    "print(f\"Male: {number_male} ({percent_male:.2f}%)\")\n",
    "print(f\"Others / Uninformed: {number_others} ({percent_others:.2f}%)\")\n",
    "# Preço médio de compra\n",
    "# Valor Total de Compra"
   ]
  },
  {
   "cell_type": "code",
   "execution_count": null,
   "metadata": {},
   "outputs": [],
   "source": [
    "# Compras for faixa etária"
   ]
  },
  {
   "cell_type": "code",
   "execution_count": null,
   "metadata": {},
   "outputs": [],
   "source": []
  },
  {
   "cell_type": "code",
   "execution_count": null,
   "metadata": {},
   "outputs": [],
   "source": []
  }
 ],
 "metadata": {
  "kernelspec": {
   "display_name": "Python 3",
   "language": "python",
   "name": "python3"
  },
  "language_info": {
   "codemirror_mode": {
    "name": "ipython",
    "version": 3
   },
   "file_extension": ".py",
   "mimetype": "text/x-python",
   "name": "python",
   "nbconvert_exporter": "python",
   "pygments_lexer": "ipython3",
   "version": "3.6.9"
  }
 },
 "nbformat": 4,
 "nbformat_minor": 2
}
