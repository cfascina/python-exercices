{
 "cells": [
  {
   "cell_type": "code",
   "execution_count": null,
   "metadata": {},
   "outputs": [],
   "source": [
    "class PrimeNumbers(object):\n",
    "    def generate(self, quantity):\n",
    "        if quantity is None:\n",
    "            raise TypeError(\"Quantity can't be None.\")\n",
    "        \n",
    "        if not isinstance(quantity, int):\n",
    "            raise TypeError(\"Quantity must be Int.\")\n",
    "    \n",
    "        prime_numbers_arr = []\n",
    "        is_prime = True\n",
    "        \n",
    "        for number in range (2, quantity + 1):\n",
    "            for i in range(2, number + 1):\n",
    "                if i < number and number % i == 0:\n",
    "                    is_prime = False\n",
    "                \n",
    "            if is_prime:\n",
    "                prime_numbers_arr.append(True)\n",
    "            else:\n",
    "                prime_numbers_arr.append(False)\n",
    "                \n",
    "            is_prime = True\n",
    "                \n",
    "        return prime_numbers_arr"
   ]
  },
  {
   "cell_type": "code",
   "execution_count": null,
   "metadata": {},
   "outputs": [],
   "source": [
    "%%writefile tests.py\n",
    "from nose.tools import assert_equal, assert_raises\n",
    "\n",
    "class TestPrimeNumbers(object):\n",
    "    def test_generate(self):\n",
    "        tested_class = PrimeNumbers()\n",
    "        \n",
    "        assert_raises(TypeError, tested_class.generate, None)\n",
    "        assert_raises(TypeError, tested_class.generate, 98.6)\n",
    "        assert_equal(tested_class.generate(20), [True, True, False, True, False, True, False, False, False, True, False, True, False, False, False, True, False, True, False])\n",
    "\n",
    "        print(\"Tests OK.\")\n",
    "\n",
    "def main():\n",
    "    test_class = TestPrimeNumbers()\n",
    "    test_class.test_generate()\n",
    "    \n",
    "if __name__ == '__main__':\n",
    "    main()"
   ]
  },
  {
   "cell_type": "code",
   "execution_count": null,
   "metadata": {},
   "outputs": [],
   "source": [
    "%run -i tests.py"
   ]
  }
 ],
 "metadata": {
  "kernelspec": {
   "display_name": "Python 3",
   "language": "python",
   "name": "python3"
  },
  "language_info": {
   "codemirror_mode": {
    "name": "ipython",
    "version": 3
   },
   "file_extension": ".py",
   "mimetype": "text/x-python",
   "name": "python",
   "nbconvert_exporter": "python",
   "pygments_lexer": "ipython3",
   "version": "3.6.9"
  }
 },
 "nbformat": 4,
 "nbformat_minor": 2
}
