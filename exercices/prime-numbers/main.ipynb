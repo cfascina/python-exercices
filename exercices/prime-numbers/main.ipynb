{
 "cells": [
  {
   "cell_type": "code",
   "execution_count": 6,
   "metadata": {},
   "outputs": [],
   "source": [
    "class PrimeNumbers(object):\n",
    "    def generate(self, quantity):\n",
    "        if quantity is None or not isinstance(quantity, int):\n",
    "            return False\n",
    "        \n",
    "        prime_numbers_arr = []\n",
    "        is_prime = True\n",
    "        \n",
    "        for number in range (2, quantity + 1):\n",
    "            for i in range(2, number + 1):\n",
    "                if i < number and number % i == 0:\n",
    "                    is_prime = False\n",
    "                \n",
    "            if is_prime:\n",
    "                prime_numbers_arr.append(True)\n",
    "            else:\n",
    "                prime_numbers_arr.append(False)\n",
    "                \n",
    "            is_prime = True\n",
    "                \n",
    "        return prime_numbers_arr"
   ]
  },
  {
   "cell_type": "code",
   "execution_count": 7,
   "metadata": {},
   "outputs": [
    {
     "name": "stdout",
     "output_type": "stream",
     "text": [
      "Tests OK.\n"
     ]
    }
   ],
   "source": [
    "from nose.tools import assert_equal\n",
    "\n",
    "class TestPrimeNumbers(object):\n",
    "    def test_generate(self, func):\n",
    "        assert_equal(func(None), False)\n",
    "        assert_equal(func(1.5), False)\n",
    "        \n",
    "        result_arr = [True, True, False, True, False,\\\n",
    "                      True, False, False, False, True,\\\n",
    "                      False, True, False, False, False,\\\n",
    "                      True, False, True, False]\n",
    "        assert_equal(func(20), result_arr)\n",
    "        \n",
    "        print(\"Tests OK.\")\n",
    "        \n",
    "#         tested_class = PrimeNumbers()\n",
    "        \n",
    "#         assert_raises(TypeError, tested_class.generate, None)\n",
    "#         assert_raises(TypeError, tested_class.generate, 98.6)\n",
    "#         assert_equal(tested_class.generate(20), [True, True, False, True, False, True, False, False, False, True, False, True, False, False, False, True, False, True, False])\n",
    "\n",
    "#         print(\"Tests OK.\")\n",
    "\n",
    "def main():\n",
    "    test_class = TestPrimeNumbers()\n",
    "    tested_class = PrimeNumbers()\n",
    "    test_class.test_generate(tested_class.generate)\n",
    "    \n",
    "if __name__ == '__main__':\n",
    "    main()"
   ]
  }
 ],
 "metadata": {
  "kernelspec": {
   "display_name": "Python 3",
   "language": "python",
   "name": "python3"
  },
  "language_info": {
   "codemirror_mode": {
    "name": "ipython",
    "version": 3
   },
   "file_extension": ".py",
   "mimetype": "text/x-python",
   "name": "python",
   "nbconvert_exporter": "python",
   "pygments_lexer": "ipython3",
   "version": "3.6.9"
  }
 },
 "nbformat": 4,
 "nbformat_minor": 2
}
