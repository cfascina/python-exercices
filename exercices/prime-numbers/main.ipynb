{
 "cells": [
  {
   "cell_type": "code",
   "execution_count": null,
   "metadata": {},
   "outputs": [],
   "source": [
    "def prime_numbers(quantity):\n",
    "    prime_numbers_arr = []\n",
    "    not_prime = 0\n",
    "    \n",
    "    for number in range(2, quantity):\n",
    "        for i in range(2, number):\n",
    "            if i < number and number % i == 0:\n",
    "                not_prime = 1\n",
    "        \n",
    "        if not_prime == 0:\n",
    "            prime_numbers_arr.append(number)\n",
    "            \n",
    "        not_prime = 0\n",
    "    \n",
    "    print(prime_numbers_arr)"
   ]
  },
  {
   "cell_type": "code",
   "execution_count": null,
   "metadata": {},
   "outputs": [],
   "source": [
    "prime_numbers(50)"
   ]
  }
 ],
 "metadata": {
  "kernelspec": {
   "display_name": "Python 3",
   "language": "python",
   "name": "python3"
  },
  "language_info": {
   "codemirror_mode": {
    "name": "ipython",
    "version": 3
   },
   "file_extension": ".py",
   "mimetype": "text/x-python",
   "name": "python",
   "nbconvert_exporter": "python",
   "pygments_lexer": "ipython3",
   "version": "3.6.9"
  }
 },
 "nbformat": 4,
 "nbformat_minor": 2
}
