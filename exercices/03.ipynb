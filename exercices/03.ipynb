{
 "cells": [
  {
   "cell_type": "markdown",
   "metadata": {},
   "source": [
    "### 01 - Crie uma função que imprima a sequência de números pares entre 1 e 20 (sem receber parâmetros)."
   ]
  },
  {
   "cell_type": "code",
   "execution_count": null,
   "metadata": {},
   "outputs": [],
   "source": [
    "def even_numbers():\n",
    "    for number in range(2, 21, 2):\n",
    "        print(number)\n",
    "            \n",
    "even_numbers()"
   ]
  },
  {
   "cell_type": "markdown",
   "metadata": {},
   "source": [
    "### 02 - Crie uma função que receba uma string como parâmetro, e retorne a mesma em letras maiúsculas."
   ]
  },
  {
   "cell_type": "code",
   "execution_count": null,
   "metadata": {},
   "outputs": [],
   "source": [
    "def toUpperCase(word):\n",
    "    print(word.upper())\n",
    "\n",
    "toUpperCase(\"caio\")"
   ]
  },
  {
   "cell_type": "markdown",
   "metadata": {},
   "source": [
    "### 03 - Crie uma função que receba como parâmetro uma lista de 4 elementos. Adicione 2 elementos à lista e imprima na tela."
   ]
  },
  {
   "cell_type": "code",
   "execution_count": null,
   "metadata": {},
   "outputs": [],
   "source": [
    "def list_append(list_obj):\n",
    "    list_obj.append(5)\n",
    "    list_obj.append(6)\n",
    "    \n",
    "    print(list_obj)\n",
    "\n",
    "list_append([1, 2, 3, 4])"
   ]
  },
  {
   "cell_type": "markdown",
   "metadata": {},
   "source": [
    "### 04 - Crie uma função que receba um parâmetro e uma possível lista de parâmetros. Faça duas chamadas à função, uma com apenas 1 elemento e outra com 4 elementos."
   ]
  },
  {
   "cell_type": "code",
   "execution_count": null,
   "metadata": {},
   "outputs": [],
   "source": [
    "def printElements(param1, *params):\n",
    "    print(f\"Parameter: {param1}\")\n",
    "    \n",
    "    for param in params:\n",
    "        print(f\"Parameter: {param}\")\n",
    "    \n",
    "printElements(10)\n",
    "print(\"\\n\")\n",
    "printElements(\"Laranja\", \"Abacaxi\", \"Morango\", \"Mamão\")"
   ]
  },
  {
   "cell_type": "markdown",
   "metadata": {},
   "source": [
    "### 05 - Crie uma função anônima e atribua seu retorno à uma variável chamada soma. A expressão vai receber 2 números como parâmetro e retornar a soma deles."
   ]
  },
  {
   "cell_type": "code",
   "execution_count": null,
   "metadata": {},
   "outputs": [],
   "source": [
    "add_numbers = lambda num_1, num_2: num_1 + num_2\n",
    "\n",
    "add_numbers(2, 7)"
   ]
  },
  {
   "cell_type": "markdown",
   "metadata": {},
   "source": [
    "### 06 - Execute o código abaixo e certifique-se que compreende a diferença entre variável global e local."
   ]
  },
  {
   "cell_type": "code",
   "execution_count": null,
   "metadata": {},
   "outputs": [],
   "source": [
    "result = 0\n",
    "\n",
    "def sumNumbers(arg1, arg2):\n",
    "    result = arg1 + arg2 \n",
    "    print(f\"Dentro da função, \\\"result\\\" é {result}.\")\n",
    "    return result\n",
    "\n",
    "sumNumbers(10, 20)\n",
    "\n",
    "print(f\"Fora da função, \\\"result\\\" é {result}.\")"
   ]
  },
  {
   "cell_type": "markdown",
   "metadata": {},
   "source": [
    "### 07 - Abaixo você encontra uma lista com temperaturas em graus Celsius. Crie uma função anônima que converta cada valor para o equivalente em Fahrenheit."
   ]
  },
  {
   "cell_type": "code",
   "execution_count": null,
   "metadata": {},
   "outputs": [],
   "source": [
    "celsius = [39.2, 36.5, 37.3, 37.8]\n",
    "fahrenheit = map(lambda temperature: round((1.8 * temperature) + 32, 2), celsius)\n",
    "\n",
    "print(list(fahrenheit))"
   ]
  },
  {
   "cell_type": "markdown",
   "metadata": {},
   "source": [
    "### 08 - Crie um dicionário e liste todos os métodos e atributos do mesmo."
   ]
  },
  {
   "cell_type": "code",
   "execution_count": null,
   "metadata": {},
   "outputs": [],
   "source": [
    "my_dict = {}\n",
    "\n",
    "dir(dict)"
   ]
  },
  {
   "cell_type": "markdown",
   "metadata": {},
   "source": [
    "### 09 - Abaixo você encontra a importação do Pandas, um dos principais pacotes Python para análise de dados. Analise atentamente todos os métodos disponíveis (um deles você irá usar no próximo exercício)."
   ]
  },
  {
   "cell_type": "code",
   "execution_count": null,
   "metadata": {},
   "outputs": [],
   "source": [
    "import pandas as pd\n",
    "\n",
    "dir(pd)"
   ]
  },
  {
   "cell_type": "markdown",
   "metadata": {},
   "source": [
    "### 10 - Crie uma função que receba o arquivo \"binary.csv\" como parâmetro e retorne um resumo estatístico descritivo do arquivo. Dica, use Pandas e um de seus métodos: describe()."
   ]
  },
  {
   "cell_type": "code",
   "execution_count": null,
   "metadata": {},
   "outputs": [],
   "source": [
    "import pandas as pd\n",
    "\n",
    "def readFile(file):\n",
    "    file = pd.read_csv(file)\n",
    "    print(file.describe())\n",
    "        \n",
    "readFile(\"binary.csv\")"
   ]
  }
 ],
 "metadata": {
  "kernelspec": {
   "display_name": "Python 3",
   "language": "python",
   "name": "python3"
  },
  "language_info": {
   "codemirror_mode": {
    "name": "ipython",
    "version": 3
   },
   "file_extension": ".py",
   "mimetype": "text/x-python",
   "name": "python",
   "nbconvert_exporter": "python",
   "pygments_lexer": "ipython3",
   "version": "3.6.9"
  }
 },
 "nbformat": 4,
 "nbformat_minor": 2
}
