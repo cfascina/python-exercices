{
 "cells": [
  {
   "cell_type": "code",
   "execution_count": null,
   "metadata": {},
   "outputs": [],
   "source": [
    "import os\n",
    "import sqlite3\n",
    "\n",
    "os.remove(\"country-codes.db\") if os.path.exists(\"country-codes.db\") else None\n",
    "\n",
    "conn = sqlite3.connect(\"country-codes.db\")\n",
    "cursor = conn.cursor()\n",
    "\n",
    "def create_table():\n",
    "    statement = \"\"\"\n",
    "        CREATE TABLE IF NOT EXISTS country_codes (\n",
    "            code CHAR(2) NOT NULL,\n",
    "            name VARCHAR NOT NULL\n",
    "        )\n",
    "    \"\"\"\n",
    "    cursor.execute(statement)    \n",
    "    \n",
    "def data_import(country_list):\n",
    "    cursor.executemany(\"INSERT INTO country_codes VALUES (?, ?)\", country_list)\n",
    "    conn.commit()\n",
    "    \n",
    "def data_select():\n",
    "    statement = \"SELECT _rowid_, code, name FROM country_codes\"\n",
    "    cursor.execute(statement)\n",
    "    result = cursor.fetchall()  \n",
    "    \n",
    "    for item in result:\n",
    "        print(item)\n",
    "        \n",
    "def data_insert(code, name):\n",
    "    statement = f\"INSERT INTO country_codes VALUES ('{code}', '{name}')\"\n",
    "    cursor.execute(statement)\n",
    "    conn.commit()\n",
    "    \n",
    "def data_update(country_id, code, name):\n",
    "    statement = f\"UPDATE country_codes SET code = '{code}', name = '{name}' WHERE _rowid_ = '{country_id}'\"\n",
    "    cursor.execute(statement)\n",
    "    conn.commit()\n",
    "    pass\n",
    "\n",
    "def data_delete(country_id):\n",
    "    statement = f\"DELETE FROM country_codes WHERE _rowid_ = {country_id}\"\n",
    "    cursor.execute(statement)\n",
    "    conn.commit()"
   ]
  },
  {
   "cell_type": "code",
   "execution_count": null,
   "metadata": {},
   "outputs": [],
   "source": [
    "create_table()"
   ]
  },
  {
   "cell_type": "code",
   "execution_count": null,
   "metadata": {},
   "outputs": [],
   "source": [
    "# Won't return anything, as database is empty.\n",
    "data_select()"
   ]
  },
  {
   "cell_type": "code",
   "execution_count": null,
   "metadata": {},
   "outputs": [],
   "source": [
    "countries = [\n",
    "    (\"AR\", \"Argentina\"),\n",
    "    (\"BR\", \"Brazil\", ),\n",
    "    (\"BO\", \"Bolivia\"),\n",
    "    (\"CL\", \"Chile\", ),\n",
    "    (\"CO\", \"Colombia\"),\n",
    "    (\"EC\", \"Ecuador\"),\n",
    "    (\"PE\", \"Peru\"),\n",
    "    (\"PY\", \"Paraguay\"),\n",
    "    (\"VE\", \"Venezuela\")]\n",
    "\n",
    "data_import(countries)"
   ]
  },
  {
   "cell_type": "code",
   "execution_count": null,
   "metadata": {},
   "outputs": [],
   "source": [
    "data_select()"
   ]
  },
  {
   "cell_type": "code",
   "execution_count": null,
   "metadata": {},
   "outputs": [],
   "source": [
    "data_update(8, \"PA\", \"Paraguai\")"
   ]
  },
  {
   "cell_type": "code",
   "execution_count": null,
   "metadata": {},
   "outputs": [],
   "source": [
    "data_select()"
   ]
  },
  {
   "cell_type": "code",
   "execution_count": null,
   "metadata": {},
   "outputs": [],
   "source": [
    "data_delete(8)"
   ]
  },
  {
   "cell_type": "code",
   "execution_count": null,
   "metadata": {},
   "outputs": [],
   "source": [
    "data_select()"
   ]
  },
  {
   "cell_type": "code",
   "execution_count": null,
   "metadata": {},
   "outputs": [],
   "source": [
    "data_insert(\"PY\", \"Paraguay\")"
   ]
  },
  {
   "cell_type": "code",
   "execution_count": null,
   "metadata": {},
   "outputs": [],
   "source": [
    "data_select()"
   ]
  },
  {
   "cell_type": "code",
   "execution_count": null,
   "metadata": {},
   "outputs": [],
   "source": [
    "cursor.close()"
   ]
  },
  {
   "cell_type": "code",
   "execution_count": null,
   "metadata": {},
   "outputs": [],
   "source": [
    "conn.close()"
   ]
  },
  {
   "cell_type": "code",
   "execution_count": null,
   "metadata": {},
   "outputs": [],
   "source": [
    "# Won't work because the cursor and connection were closed.\n",
    "data_select()"
   ]
  }
 ],
 "metadata": {
  "kernelspec": {
   "display_name": "Python 3",
   "language": "python",
   "name": "python3"
  },
  "language_info": {
   "codemirror_mode": {
    "name": "ipython",
    "version": 3
   },
   "file_extension": ".py",
   "mimetype": "text/x-python",
   "name": "python",
   "nbconvert_exporter": "python",
   "pygments_lexer": "ipython3",
   "version": "3.6.9"
  }
 },
 "nbformat": 4,
 "nbformat_minor": 2
}
