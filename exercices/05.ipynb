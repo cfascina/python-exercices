{
 "cells": [
  {
   "cell_type": "markdown",
   "metadata": {},
   "source": [
    "### 1 - A partir da classe abaixo, crie um objeto passando os 2 parâmetros e depois faça uma chamada aos atributos e métodos."
   ]
  },
  {
   "cell_type": "code",
   "execution_count": null,
   "metadata": {},
   "outputs": [],
   "source": [
    "class Rocket():\n",
    "     \n",
    "    def __init__(self, x = 0, y = 0):\n",
    "        self.x = x\n",
    "        self.y = y\n",
    "        \n",
    "    def move_rocket(self, x_increment = 0, y_increment = 1):\n",
    "        self.x += x_increment\n",
    "        self.y += y_increment\n",
    "        \n",
    "    def print_rocket(self):\n",
    "        print(self.x, self.y)"
   ]
  },
  {
   "cell_type": "code",
   "execution_count": null,
   "metadata": {},
   "outputs": [],
   "source": [
    "rocket_02 = Rocket(10, 15)"
   ]
  },
  {
   "cell_type": "code",
   "execution_count": null,
   "metadata": {},
   "outputs": [],
   "source": [
    "rocket_02.print_rocket()"
   ]
  },
  {
   "cell_type": "code",
   "execution_count": null,
   "metadata": {},
   "outputs": [],
   "source": [
    "rocket_02.move_rocket(5, 100)"
   ]
  },
  {
   "cell_type": "code",
   "execution_count": null,
   "metadata": {},
   "outputs": [],
   "source": [
    "rocket_02.print_rocket()"
   ]
  },
  {
   "cell_type": "markdown",
   "metadata": {},
   "source": [
    "### 02 - Crie uma classe chamada Person() com 4 atributos e 2 métodos especiais. Crie um objeto desta classe e chame os métodos especiais."
   ]
  },
  {
   "cell_type": "code",
   "execution_count": null,
   "metadata": {},
   "outputs": [],
   "source": [
    "class Person():\n",
    "    \n",
    "    admin_name = \"Caio\"\n",
    "\n",
    "    def __init__(self, name, city, phone, email):\n",
    "        self.name = name\n",
    "        self.city = city\n",
    "        self.phone = phone\n",
    "        self.email = email\n",
    "        \n",
    "    def __str__(self):\n",
    "        return(f\"{self.name} | {self.city} | {self.phone} | {self.email}\")\n",
    "        \n",
    "    def __len__(self):\n",
    "        return len(self.email)"
   ]
  },
  {
   "cell_type": "code",
   "execution_count": null,
   "metadata": {},
   "outputs": [],
   "source": [
    "caio = Person(\"Caio\", \"Campinas\", \"(19) 9 91007265\", \"cfascina@gmail.com\")"
   ]
  },
  {
   "cell_type": "code",
   "execution_count": null,
   "metadata": {},
   "outputs": [],
   "source": [
    "print(caio)"
   ]
  },
  {
   "cell_type": "code",
   "execution_count": null,
   "metadata": {},
   "outputs": [],
   "source": [
    "print(f\"Email chars: {len(caio)}\")"
   ]
  },
  {
   "cell_type": "markdown",
   "metadata": {},
   "source": [
    "### 03 - Crie a classe Television com 2 atributos e a classe SmartTV com um terceiro atributo. Crie um objeto da classe SmartTV e herde os atributos da classe Television, apresentando na tela."
   ]
  },
  {
   "cell_type": "code",
   "execution_count": null,
   "metadata": {},
   "outputs": [],
   "source": [
    "class Television():\n",
    "    \n",
    "    def __init__(self, brand, inches):\n",
    "        self.brand = brand\n",
    "        self.inches = inches\n",
    "        \n",
    "        print(\"Television created.\")\n",
    "        \n",
    "class SmartTV():\n",
    "\n",
    "    def __init__(self, brand, inches, apps):\n",
    "        Television.__init__(self, brand, inches)\n",
    "        self.apps = apps\n",
    "        \n",
    "        print(\"SmarTV created.\")"
   ]
  },
  {
   "cell_type": "code",
   "execution_count": null,
   "metadata": {},
   "outputs": [],
   "source": [
    "old_tv = Television(\"LG\", 40)"
   ]
  },
  {
   "cell_type": "code",
   "execution_count": null,
   "metadata": {},
   "outputs": [],
   "source": [
    "new_tv = SmartTV(\"Samsung\", 50, [\"Netflix\", \"Amazon Prime\"])"
   ]
  },
  {
   "cell_type": "code",
   "execution_count": null,
   "metadata": {},
   "outputs": [],
   "source": [
    "print(f\"{old_tv.brand} - {old_tv.inches} inches.\")"
   ]
  },
  {
   "cell_type": "code",
   "execution_count": null,
   "metadata": {},
   "outputs": [],
   "source": [
    "print(f\"{new_tv.brand} - {new_tv.inches} inches. Apps:\")\n",
    "print(\", \".join(new_tv.apps))"
   ]
  }
 ],
 "metadata": {
  "kernelspec": {
   "display_name": "Python 3",
   "language": "python",
   "name": "python3"
  },
  "language_info": {
   "codemirror_mode": {
    "name": "ipython",
    "version": 3
   },
   "file_extension": ".py",
   "mimetype": "text/x-python",
   "name": "python",
   "nbconvert_exporter": "python",
   "pygments_lexer": "ipython3",
   "version": "3.6.9"
  }
 },
 "nbformat": 4,
 "nbformat_minor": 2
}
