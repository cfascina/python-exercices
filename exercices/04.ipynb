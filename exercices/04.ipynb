{
 "cells": [
  {
   "cell_type": "markdown",
   "metadata": {},
   "source": [
    "### 01 - Crie uma lista de 3 elementos e calcule a terceira potência de cada um."
   ]
  },
  {
   "cell_type": "code",
   "execution_count": null,
   "metadata": {},
   "outputs": [],
   "source": [
    "numbers = [3, 4, 5]\n",
    "\n",
    "result = [number ** 3 for number in numbers]\n",
    "\n",
    "print(result)"
   ]
  },
  {
   "cell_type": "markdown",
   "metadata": {},
   "source": [
    "### 02 - Reescreva o código abaixo usando a função map()."
   ]
  },
  {
   "cell_type": "code",
   "execution_count": null,
   "metadata": {},
   "outputs": [],
   "source": [
    "words = 'A Data Science Academy oferce os melhores cursos de análise de dados do Brasil'.split()\n",
    "result = [[word.upper(), word.lower(), len(word)] for word in words]\n",
    "\n",
    "for item in result:\n",
    "    print (item)"
   ]
  },
  {
   "cell_type": "code",
   "execution_count": null,
   "metadata": {},
   "outputs": [],
   "source": [
    "words = 'A Data Science Academy oferce os melhores cursos de análise de dados do Brasil'.split()\n",
    "\n",
    "result = map(lambda word: [word.upper(), word.lower(), len(word)], words)\n",
    "\n",
    "for item in result:\n",
    "    print(item)"
   ]
  },
  {
   "cell_type": "markdown",
   "metadata": {},
   "source": [
    "### 03 - Calcule a matriz transposta da matriz abaixo."
   ]
  },
  {
   "cell_type": "code",
   "execution_count": null,
   "metadata": {},
   "outputs": [],
   "source": [
    "matrix = [[1, 2], [3, 4], [5, 6], [7, 8]]\n",
    "\n",
    "matrix_transposed = [[row[i] for row in matrix] for i in range(2)]\n",
    "\n",
    "print(matrix_transposed)"
   ]
  },
  {
   "cell_type": "markdown",
   "metadata": {},
   "source": [
    "### 04 - Crie uma função para elevar um número ao quadrado, e outra para elevar um número ao cubo. Aplique as duas funções aos elementos da lista abaixo (as funções devem ser aplicadas simultaneamente)."
   ]
  },
  {
   "cell_type": "code",
   "execution_count": null,
   "metadata": {},
   "outputs": [],
   "source": [
    "def numberSquare(number):\n",
    "    return(number ** 2)\n",
    "\n",
    "def numberCube(number):\n",
    "    return(number ** 3)\n",
    "\n",
    "numbers = [0, 1, 2, 3, 4]\n",
    "funcs = [numberSquare, numberCube]\n",
    "\n",
    "for number in numbers:\n",
    "    result = map(lambda x: x(number), funcs)\n",
    "    print(list(result))"
   ]
  },
  {
   "cell_type": "markdown",
   "metadata": {},
   "source": [
    "### 05 - Com as duas listas abaixo, calcule o resultado de cada elemento da primeira elevado ao quadrado do elemento correspondente da segunda."
   ]
  },
  {
   "cell_type": "code",
   "execution_count": null,
   "metadata": {},
   "outputs": [],
   "source": [
    "list_01 = [2, 3, 4]\n",
    "list_02 = [10, 11, 12]\n",
    "\n",
    "result = map(pow, list_01, list_02)\n",
    "\n",
    "print(list(result))"
   ]
  },
  {
   "cell_type": "markdown",
   "metadata": {},
   "source": [
    "### 06 - Utilize a função filter() para retornar apenas os valores negativos do range(-5, 5)."
   ]
  },
  {
   "cell_type": "code",
   "execution_count": null,
   "metadata": {},
   "outputs": [],
   "source": [
    "result = filter(lambda x: x < 0, range(-5, 5))\n",
    "\n",
    "print(list(result))"
   ]
  },
  {
   "cell_type": "markdown",
   "metadata": {},
   "source": [
    "### 07 - Utilize a função filter() para encontrar os valores em comuns das duas listas abaixo."
   ]
  },
  {
   "cell_type": "code",
   "execution_count": null,
   "metadata": {},
   "outputs": [],
   "source": [
    "list_01 = [1, 2, 3, 5, 7, 9]\n",
    "list_02 = [2, 3, 5, 6, 7, 8]\n",
    "\n",
    "result = filter(lambda x: x in list_01, list_02)\n",
    "\n",
    "print(list(result))"
   ]
  },
  {
   "cell_type": "markdown",
   "metadata": {},
   "source": [
    "### 08 - Considere o código abaixo. Obtenha o mesmo resultado usando o pacote time."
   ]
  },
  {
   "cell_type": "code",
   "execution_count": null,
   "metadata": {},
   "outputs": [],
   "source": [
    "import datetime\n",
    "\n",
    "print (datetime.datetime.now().strftime(\"%d/%m/%Y %H:%M\"))"
   ]
  },
  {
   "cell_type": "code",
   "execution_count": null,
   "metadata": {},
   "outputs": [],
   "source": [
    "import time\n",
    "\n",
    "print(time.strftime(\"%d/%m/%Y %H:%M\"))"
   ]
  },
  {
   "cell_type": "markdown",
   "metadata": {},
   "source": [
    "### 09 - Com os dois dicionários abaixo, crie um terceiro, com as chaves do primeiro dicionário e os valores do segundo."
   ]
  },
  {
   "cell_type": "code",
   "execution_count": null,
   "metadata": {},
   "outputs": [],
   "source": [
    "dict_01 = {'a': 1, 'b': 2}\n",
    "dict_02 = {'c': 4, 'd': 5}\n",
    "\n",
    "result = {}\n",
    "\n",
    "for key, value in zip(dict_01, dict_02.values()):\n",
    "    result[key] = value\n",
    "    \n",
    "print(result)"
   ]
  },
  {
   "cell_type": "markdown",
   "metadata": {},
   "source": [
    "### 10 - Retorne apenas os elementos com índice maior que 5 da lista abaixo."
   ]
  },
  {
   "cell_type": "code",
   "execution_count": null,
   "metadata": {},
   "outputs": [],
   "source": [
    "list_01 = ['a', 'b', 'c', 'd', 'e', 'f', 'g', 'h']\n",
    "\n",
    "result = [item[1] for item in enumerate(list_01) if item[0] > 5]\n",
    "\n",
    "print(result)"
   ]
  }
 ],
 "metadata": {
  "kernelspec": {
   "display_name": "Python 3",
   "language": "python",
   "name": "python3"
  },
  "language_info": {
   "codemirror_mode": {
    "name": "ipython",
    "version": 3
   },
   "file_extension": ".py",
   "mimetype": "text/x-python",
   "name": "python",
   "nbconvert_exporter": "python",
   "pygments_lexer": "ipython3",
   "version": "3.6.9"
  }
 },
 "nbformat": 4,
 "nbformat_minor": 2
}
