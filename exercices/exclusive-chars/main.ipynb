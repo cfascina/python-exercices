{
 "cells": [
  {
   "cell_type": "code",
   "execution_count": null,
   "metadata": {},
   "outputs": [],
   "source": [
    "class UniqueChars(object):\n",
    "    \n",
    "    def is_exclusive(self, word):\n",
    "        if word is None:\n",
    "            return False\n",
    "        else:\n",
    "            letters_arr = []\n",
    "\n",
    "            for letter in word:\n",
    "                if letter in letters_arr:\n",
    "                    return False\n",
    "                letters_arr.append(letter)\n",
    "\n",
    "            return True"
   ]
  },
  {
   "cell_type": "code",
   "execution_count": null,
   "metadata": {},
   "outputs": [],
   "source": [
    "%%writefile tests.py\n",
    "\n",
    "from nose.tools import assert_equal\n",
    "\n",
    "class TestUniqueChars(object):\n",
    "\n",
    "    def test_unique_chars(self, func):\n",
    "        assert_equal(func(None), False)\n",
    "        assert_equal(func(\"\"), True)\n",
    "        assert_equal(func(\"foo\"), False)\n",
    "        assert_equal(func(\"bar\"), True)\n",
    "        print(\"Tests OK.\")\n",
    "\n",
    "def main():\n",
    "    test = TestUniqueChars()\n",
    "    \n",
    "    try:\n",
    "        test.test_unique_chars(UniqueChars().is_exclusive)\n",
    "    except NameError:\n",
    "        pass\n",
    "\n",
    "if __name__ == '__main__':\n",
    "    main()"
   ]
  },
  {
   "cell_type": "code",
   "execution_count": null,
   "metadata": {},
   "outputs": [],
   "source": [
    "%run -i tests.py"
   ]
  }
 ],
 "metadata": {
  "kernelspec": {
   "display_name": "Python 3",
   "language": "python",
   "name": "python3"
  },
  "language_info": {
   "codemirror_mode": {
    "name": "ipython",
    "version": 3
   },
   "file_extension": ".py",
   "mimetype": "text/x-python",
   "name": "python",
   "nbconvert_exporter": "python",
   "pygments_lexer": "ipython3",
   "version": "3.6.9"
  }
 },
 "nbformat": 4,
 "nbformat_minor": 2
}
